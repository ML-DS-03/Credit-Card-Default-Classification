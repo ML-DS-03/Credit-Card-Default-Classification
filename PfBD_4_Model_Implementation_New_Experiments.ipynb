{
 "cells": [
  {
   "cell_type": "markdown",
   "metadata": {},
   "source": [
    "# New experiments to improve the performance of the model"
   ]
  },
  {
   "cell_type": "markdown",
   "metadata": {},
   "source": [
    "In this notebook we are going to rerun the decision tree model with the following changes:\n",
    "    \n",
    "    1. We exclude the predictors that are highly correlated among each other\n",
    "    2. We exclude the outliers\n",
    "    3. We make sure that training and test datasets are statistically similar"
   ]
  },
  {
   "cell_type": "code",
   "execution_count": 2,
   "metadata": {},
   "outputs": [],
   "source": [
    "import pandas as pd\n",
    "import numpy as np\n",
    "import matplotlib as plt\n",
    "import matplotlib.pyplot as plt \n",
    "import seaborn as sns\n",
    "\n",
    "file_path=r'C:\\Users\\marco.ligia\\Downloads'\n",
    "file_name='/credit_card_default.xls'\n",
    "\n",
    "df = pd.read_excel(file_path+file_name)\n",
    "pd.set_option('display.max_columns', None)\n",
    "pd.set_option('display.max_colwidth', None)"
   ]
  },
  {
   "cell_type": "code",
   "execution_count": null,
   "metadata": {},
   "outputs": [],
   "source": [
    "file_path=r'C:\\Users\\Marco\\Desktop\\TU Dublin\\Programming for Big Data - H6018\\2nd Assignment\\data'\n",
    "file_name='/credit_card_default.xls'"
   ]
  },
  {
   "cell_type": "code",
   "execution_count": 3,
   "metadata": {},
   "outputs": [],
   "source": [
    "#checking duplicates for ID and drop it\n",
    "df.ID.duplicated().sum()\n",
    "df.drop(['ID'], axis=1, inplace=True)\n",
    "#rename columns\n",
    "df = df.rename(columns = {'default payment next month' : 'def_next_month', \n",
    "                          'PAY_0' : 'PAY_1'})\n",
    "df.def_next_month.value_counts()\n",
    "#Correct data inconsistencies \n",
    "# MARRIAGE = 0 is deleted\n",
    "df = df.drop(df[df['MARRIAGE']==0].index)\n",
    "# EDUCATION = 0, 5 and 6 are deleted\n",
    "df = df.drop(df[df['EDUCATION']==0].index)\n",
    "df = df.drop(df[df['EDUCATION']==5].index)\n",
    "df = df.drop(df[df['EDUCATION']==6].index)\n",
    "#Fixing PAY variables\n",
    "for att in ['PAY_1', 'PAY_2', 'PAY_3', 'PAY_4', 'PAY_5', 'PAY_6']:\n",
    "  # categories -2,-1 are grouped into a single class -1: pay duty   \n",
    "  filter = (df[att] == -2) | (df[att] == -1) \n",
    "  df.loc[filter, att] = -1\n",
    "  df[att] = df[att].astype('int64')\n",
    "  filter = (df[att] >= 0)\n",
    "  df.loc[filter, att] = df.loc[filter, att] + 1"
   ]
  },
  {
   "cell_type": "code",
   "execution_count": 4,
   "metadata": {},
   "outputs": [
    {
     "data": {
      "text/plain": [
       "(29601, 24)"
      ]
     },
     "execution_count": 4,
     "metadata": {},
     "output_type": "execute_result"
    }
   ],
   "source": [
    "df.shape"
   ]
  },
  {
   "cell_type": "markdown",
   "metadata": {},
   "source": [
    "## 1.Removing predictors correlated among each other"
   ]
  },
  {
   "cell_type": "markdown",
   "metadata": {},
   "source": [
    "From the data exploration part, we saw that the PAY, BILL_AMT and PAY_AMT are higly correlated among each other.\n",
    "\n",
    "We can try to keep them only after one month to see if the performance of the model increases.\n",
    "We decided to keep the first month because PAY_1 has the highest correlation with the target variable."
   ]
  },
  {
   "cell_type": "code",
   "execution_count": 5,
   "metadata": {},
   "outputs": [
    {
     "data": {
      "text/html": [
       "<div>\n",
       "<style scoped>\n",
       "    .dataframe tbody tr th:only-of-type {\n",
       "        vertical-align: middle;\n",
       "    }\n",
       "\n",
       "    .dataframe tbody tr th {\n",
       "        vertical-align: top;\n",
       "    }\n",
       "\n",
       "    .dataframe thead th {\n",
       "        text-align: right;\n",
       "    }\n",
       "</style>\n",
       "<table border=\"1\" class=\"dataframe\">\n",
       "  <thead>\n",
       "    <tr style=\"text-align: right;\">\n",
       "      <th></th>\n",
       "      <th>LIMIT_BAL</th>\n",
       "      <th>SEX</th>\n",
       "      <th>EDUCATION</th>\n",
       "      <th>MARRIAGE</th>\n",
       "      <th>AGE</th>\n",
       "      <th>PAY_1</th>\n",
       "      <th>PAY_AMT1</th>\n",
       "      <th>def_next_month</th>\n",
       "    </tr>\n",
       "  </thead>\n",
       "  <tbody>\n",
       "    <tr>\n",
       "      <th>0</th>\n",
       "      <td>20000</td>\n",
       "      <td>2</td>\n",
       "      <td>2</td>\n",
       "      <td>1</td>\n",
       "      <td>24</td>\n",
       "      <td>3</td>\n",
       "      <td>0</td>\n",
       "      <td>1</td>\n",
       "    </tr>\n",
       "    <tr>\n",
       "      <th>1</th>\n",
       "      <td>120000</td>\n",
       "      <td>2</td>\n",
       "      <td>2</td>\n",
       "      <td>2</td>\n",
       "      <td>26</td>\n",
       "      <td>-1</td>\n",
       "      <td>0</td>\n",
       "      <td>1</td>\n",
       "    </tr>\n",
       "    <tr>\n",
       "      <th>2</th>\n",
       "      <td>90000</td>\n",
       "      <td>2</td>\n",
       "      <td>2</td>\n",
       "      <td>2</td>\n",
       "      <td>34</td>\n",
       "      <td>1</td>\n",
       "      <td>1518</td>\n",
       "      <td>0</td>\n",
       "    </tr>\n",
       "    <tr>\n",
       "      <th>3</th>\n",
       "      <td>50000</td>\n",
       "      <td>2</td>\n",
       "      <td>2</td>\n",
       "      <td>1</td>\n",
       "      <td>37</td>\n",
       "      <td>1</td>\n",
       "      <td>2000</td>\n",
       "      <td>0</td>\n",
       "    </tr>\n",
       "    <tr>\n",
       "      <th>4</th>\n",
       "      <td>50000</td>\n",
       "      <td>1</td>\n",
       "      <td>2</td>\n",
       "      <td>1</td>\n",
       "      <td>57</td>\n",
       "      <td>-1</td>\n",
       "      <td>2000</td>\n",
       "      <td>0</td>\n",
       "    </tr>\n",
       "  </tbody>\n",
       "</table>\n",
       "</div>"
      ],
      "text/plain": [
       "   LIMIT_BAL  SEX  EDUCATION  MARRIAGE  AGE  PAY_1  PAY_AMT1  def_next_month\n",
       "0      20000    2          2         1   24      3         0               1\n",
       "1     120000    2          2         2   26     -1         0               1\n",
       "2      90000    2          2         2   34      1      1518               0\n",
       "3      50000    2          2         1   37      1      2000               0\n",
       "4      50000    1          2         1   57     -1      2000               0"
      ]
     },
     "execution_count": 5,
     "metadata": {},
     "output_type": "execute_result"
    }
   ],
   "source": [
    "df_nocorr = df.drop(['PAY_2', 'PAY_3','PAY_4','PAY_5','PAY_6','BILL_AMT1','BILL_AMT2',\n",
    "                               'BILL_AMT3','BILL_AMT4','BILL_AMT5', 'BILL_AMT6', 'PAY_AMT2', 'PAY_AMT3',\n",
    "                               'PAY_AMT4', 'PAY_AMT5', 'PAY_AMT6'],axis=1)\n",
    "df_nocorr.head(5)"
   ]
  },
  {
   "cell_type": "code",
   "execution_count": 6,
   "metadata": {},
   "outputs": [
    {
     "data": {
      "text/plain": [
       "(29601, 8)"
      ]
     },
     "execution_count": 6,
     "metadata": {},
     "output_type": "execute_result"
    }
   ],
   "source": [
    "df_nocorr.shape"
   ]
  },
  {
   "cell_type": "code",
   "execution_count": 7,
   "metadata": {},
   "outputs": [
    {
     "name": "stderr",
     "output_type": "stream",
     "text": [
      "C:\\Users\\MARCO~1.LIG\\AppData\\Local\\Temp/ipykernel_17528/678783771.py:4: DeprecationWarning: `np.bool` is a deprecated alias for the builtin `bool`. To silence this warning, use `bool` by itself. Doing this will not modify any behavior and is safe. If you specifically wanted the numpy scalar type, use `np.bool_` here.\n",
      "Deprecated in NumPy 1.20; for more details and guidance: https://numpy.org/devdocs/release/1.20.0-notes.html#deprecations\n",
      "  mask = np.triu(np.ones_like(corr, dtype=np.bool))\n"
     ]
    },
    {
     "data": {
      "image/png": "[encoded data removed]",
      "text/plain": [
       "<Figure size 1440x936 with 2 Axes>"
      ]
     },
     "metadata": {
      "needs_background": "light"
     },
     "output_type": "display_data"
    }
   ],
   "source": [
    "# Correlation matrix\n",
    "sns.set(style=\"white\", font_scale=1)\n",
    "corr = df_nocorr.corr() \n",
    "mask = np.triu(np.ones_like(corr, dtype=np.bool))\n",
    "f, ax = plt.subplots(figsize=(20, 13))\n",
    "cmap = sns.diverging_palette(220, 10, as_cmap=True)\n",
    "ax=sns.heatmap(corr, mask=mask, vmax=1, vmin=-1, center=0,\n",
    "            square=True, linewidths=.5, cmap=cmap, cbar_kws={\"shrink\": .5}, annot=True, annot_kws={\"size\": 10})\n",
    "cbar=ax.collections[0].colorbar\n",
    "cbar.set_ticks([-1, -0.50, 0, 0.50, 1])"
   ]
  },
  {
   "cell_type": "markdown",
   "metadata": {},
   "source": [
    "## 2.Removing Outliers"
   ]
  },
  {
   "cell_type": "markdown",
   "metadata": {},
   "source": [
    "We saw in our EDA that there are some outliers in the dataset. These can be very influencial on training models. As such, we might consider removing them and comparing results.\n",
    "\n",
    "We know via Chebyshev's Theorem (https://tinyurl.com/ckanez5s) that for any distribution, at least 88% of the data is contained within 3 standard deviations of the mean.\n",
    "\n",
    "Here we come to a trade-off. By removing outliers, theoretically we are left with at least 88% of the data, and this might help the accuracy of the models. On the other hand, it might be these outliers which in a banking setting, are contributing disproportionately to the revenue, and hence we would want to focus a lot on these customers.\n",
    "\n",
    "In a real-world setting, far more complex models would be used which would be tailored specially to these outlier clients. For the purposes of our modeling, we will remove all entries where at least one variable has an entry more than three times the standard deviation of the mean of that variable, and when we model, we can compare the full dataset and results to the results from the dataset with the outliers removed.\n",
    "\n",
    "The proportion of records deleted is only 2.2%, it is probably not going to impact that much."
   ]
  },
  {
   "cell_type": "code",
   "execution_count": 8,
   "metadata": {},
   "outputs": [],
   "source": [
    "# drop response variables and categorical variables (age)\n",
    "df_numeric = df_nocorr.drop(['def_next_month','AGE', 'SEX', 'EDUCATION', 'MARRIAGE'], axis=1)\n",
    "# standardise the numeric variables\n",
    "df_standard = (df_numeric - df_numeric.mean())/df_numeric.std()\n",
    "# get the index of any observations which have at least one variable entry < 3, as a list\n",
    "outlier_list = df_standard[(np.abs(df_standard)>3).any(1)].index.tolist()\n",
    "# remove the outliers via index\n",
    "df_outliers_removed = df_nocorr.drop(index=outlier_list)"
   ]
  },
  {
   "cell_type": "code",
   "execution_count": 9,
   "metadata": {},
   "outputs": [
    {
     "data": {
      "text/plain": [
       "0.02178980439850009"
      ]
     },
     "execution_count": 9,
     "metadata": {},
     "output_type": "execute_result"
    }
   ],
   "source": [
    "1-(len(df_outliers_removed)/len(df_standard))"
   ]
  },
  {
   "cell_type": "code",
   "execution_count": 10,
   "metadata": {},
   "outputs": [
    {
     "data": {
      "text/plain": [
       "(28956, 8)"
      ]
     },
     "execution_count": 10,
     "metadata": {},
     "output_type": "execute_result"
    }
   ],
   "source": [
    "df_outliers_removed.shape"
   ]
  },
  {
   "cell_type": "code",
   "execution_count": 11,
   "metadata": {},
   "outputs": [
    {
     "data": {
      "text/html": [
       "<div>\n",
       "<style scoped>\n",
       "    .dataframe tbody tr th:only-of-type {\n",
       "        vertical-align: middle;\n",
       "    }\n",
       "\n",
       "    .dataframe tbody tr th {\n",
       "        vertical-align: top;\n",
       "    }\n",
       "\n",
       "    .dataframe thead th {\n",
       "        text-align: right;\n",
       "    }\n",
       "</style>\n",
       "<table border=\"1\" class=\"dataframe\">\n",
       "  <thead>\n",
       "    <tr style=\"text-align: right;\">\n",
       "      <th></th>\n",
       "      <th>LIMIT_BAL</th>\n",
       "      <th>SEX</th>\n",
       "      <th>EDUCATION</th>\n",
       "      <th>MARRIAGE</th>\n",
       "      <th>AGE</th>\n",
       "      <th>PAY_1</th>\n",
       "      <th>PAY_AMT1</th>\n",
       "      <th>def_next_month</th>\n",
       "    </tr>\n",
       "  </thead>\n",
       "  <tbody>\n",
       "    <tr>\n",
       "      <th>0</th>\n",
       "      <td>20000</td>\n",
       "      <td>2</td>\n",
       "      <td>2</td>\n",
       "      <td>1</td>\n",
       "      <td>24</td>\n",
       "      <td>3</td>\n",
       "      <td>0</td>\n",
       "      <td>1</td>\n",
       "    </tr>\n",
       "    <tr>\n",
       "      <th>1</th>\n",
       "      <td>120000</td>\n",
       "      <td>2</td>\n",
       "      <td>2</td>\n",
       "      <td>2</td>\n",
       "      <td>26</td>\n",
       "      <td>-1</td>\n",
       "      <td>0</td>\n",
       "      <td>1</td>\n",
       "    </tr>\n",
       "    <tr>\n",
       "      <th>2</th>\n",
       "      <td>90000</td>\n",
       "      <td>2</td>\n",
       "      <td>2</td>\n",
       "      <td>2</td>\n",
       "      <td>34</td>\n",
       "      <td>1</td>\n",
       "      <td>1518</td>\n",
       "      <td>0</td>\n",
       "    </tr>\n",
       "    <tr>\n",
       "      <th>3</th>\n",
       "      <td>50000</td>\n",
       "      <td>2</td>\n",
       "      <td>2</td>\n",
       "      <td>1</td>\n",
       "      <td>37</td>\n",
       "      <td>1</td>\n",
       "      <td>2000</td>\n",
       "      <td>0</td>\n",
       "    </tr>\n",
       "    <tr>\n",
       "      <th>4</th>\n",
       "      <td>50000</td>\n",
       "      <td>1</td>\n",
       "      <td>2</td>\n",
       "      <td>1</td>\n",
       "      <td>57</td>\n",
       "      <td>-1</td>\n",
       "      <td>2000</td>\n",
       "      <td>0</td>\n",
       "    </tr>\n",
       "  </tbody>\n",
       "</table>\n",
       "</div>"
      ],
      "text/plain": [
       "   LIMIT_BAL  SEX  EDUCATION  MARRIAGE  AGE  PAY_1  PAY_AMT1  def_next_month\n",
       "0      20000    2          2         1   24      3         0               1\n",
       "1     120000    2          2         2   26     -1         0               1\n",
       "2      90000    2          2         2   34      1      1518               0\n",
       "3      50000    2          2         1   37      1      2000               0\n",
       "4      50000    1          2         1   57     -1      2000               0"
      ]
     },
     "execution_count": 11,
     "metadata": {},
     "output_type": "execute_result"
    }
   ],
   "source": [
    "df_outliers_removed.head(5)"
   ]
  },
  {
   "cell_type": "code",
   "execution_count": 12,
   "metadata": {},
   "outputs": [
    {
     "data": {
      "text/plain": [
       "LIMIT_BAL         False\n",
       "SEX               False\n",
       "EDUCATION         False\n",
       "MARRIAGE          False\n",
       "AGE               False\n",
       "PAY_1             False\n",
       "PAY_AMT1          False\n",
       "def_next_month    False\n",
       "dtype: bool"
      ]
     },
     "execution_count": 12,
     "metadata": {},
     "output_type": "execute_result"
    }
   ],
   "source": [
    "df_outliers_removed.isnull().any()"
   ]
  },
  {
   "cell_type": "code",
   "execution_count": 13,
   "metadata": {},
   "outputs": [],
   "source": [
    "# Set 'category' type to categorical attributes\n",
    "for att in ['SEX', 'EDUCATION', 'MARRIAGE']:\n",
    "  df_outliers_removed[att] = df_outliers_removed[att].astype('category')\n",
    "\n",
    "# one-hot encoding\n",
    "df_encoded=pd.concat([pd.get_dummies(df['SEX'], prefix='SEX'),\n",
    "                pd.get_dummies(df['EDUCATION'], prefix='EDUCATION'), \n",
    "                pd.get_dummies(df['MARRIAGE'], prefix='MARRIAGE'),\n",
    "                df_outliers_removed],axis=1)\n",
    "# drop original columns\n",
    "df_encoded.drop(['EDUCATION'],axis=1, inplace=True)\n",
    "df_encoded.drop(['SEX'],axis=1, inplace=True)\n",
    "df_encoded.drop(['MARRIAGE'],axis=1, inplace=True)\n",
    "\n",
    "# drop response variable and the hot encoded variables\n",
    "df_drop_var = df_encoded.drop(['def_next_month', 'SEX_1','SEX_2','EDUCATION_1','EDUCATION_2','EDUCATION_3','EDUCATION_4',\n",
    "                               'MARRIAGE_1','MARRIAGE_2','MARRIAGE_3'],axis=1)\n",
    "\n",
    "df_scaled = df_drop_var/df_drop_var.std()\n",
    "\n",
    "#concatenating the encoded variables with the scaled variables\n",
    "df_encoded_only = df_encoded.iloc[:,:9]\n",
    "df_prep = pd.concat([df_encoded_only, df_scaled, df.def_next_month],axis=1)"
   ]
  },
  {
   "cell_type": "code",
   "execution_count": 14,
   "metadata": {},
   "outputs": [
    {
     "data": {
      "text/html": [
       "<div>\n",
       "<style scoped>\n",
       "    .dataframe tbody tr th:only-of-type {\n",
       "        vertical-align: middle;\n",
       "    }\n",
       "\n",
       "    .dataframe tbody tr th {\n",
       "        vertical-align: top;\n",
       "    }\n",
       "\n",
       "    .dataframe thead th {\n",
       "        text-align: right;\n",
       "    }\n",
       "</style>\n",
       "<table border=\"1\" class=\"dataframe\">\n",
       "  <thead>\n",
       "    <tr style=\"text-align: right;\">\n",
       "      <th></th>\n",
       "      <th>SEX_1</th>\n",
       "      <th>SEX_2</th>\n",
       "      <th>EDUCATION_1</th>\n",
       "      <th>EDUCATION_2</th>\n",
       "      <th>EDUCATION_3</th>\n",
       "      <th>EDUCATION_4</th>\n",
       "      <th>MARRIAGE_1</th>\n",
       "      <th>MARRIAGE_2</th>\n",
       "      <th>MARRIAGE_3</th>\n",
       "      <th>LIMIT_BAL</th>\n",
       "      <th>AGE</th>\n",
       "      <th>PAY_1</th>\n",
       "      <th>PAY_AMT1</th>\n",
       "      <th>def_next_month</th>\n",
       "    </tr>\n",
       "  </thead>\n",
       "  <tbody>\n",
       "    <tr>\n",
       "      <th>0</th>\n",
       "      <td>0</td>\n",
       "      <td>1</td>\n",
       "      <td>0</td>\n",
       "      <td>1</td>\n",
       "      <td>0</td>\n",
       "      <td>0</td>\n",
       "      <td>1</td>\n",
       "      <td>0</td>\n",
       "      <td>0</td>\n",
       "      <td>0.159313</td>\n",
       "      <td>2.604301</td>\n",
       "      <td>2.328696</td>\n",
       "      <td>0.000000</td>\n",
       "      <td>1</td>\n",
       "    </tr>\n",
       "    <tr>\n",
       "      <th>1</th>\n",
       "      <td>0</td>\n",
       "      <td>1</td>\n",
       "      <td>0</td>\n",
       "      <td>1</td>\n",
       "      <td>0</td>\n",
       "      <td>0</td>\n",
       "      <td>0</td>\n",
       "      <td>1</td>\n",
       "      <td>0</td>\n",
       "      <td>0.955878</td>\n",
       "      <td>2.821326</td>\n",
       "      <td>-0.776232</td>\n",
       "      <td>0.000000</td>\n",
       "      <td>1</td>\n",
       "    </tr>\n",
       "    <tr>\n",
       "      <th>2</th>\n",
       "      <td>0</td>\n",
       "      <td>1</td>\n",
       "      <td>0</td>\n",
       "      <td>1</td>\n",
       "      <td>0</td>\n",
       "      <td>0</td>\n",
       "      <td>0</td>\n",
       "      <td>1</td>\n",
       "      <td>0</td>\n",
       "      <td>0.716909</td>\n",
       "      <td>3.689426</td>\n",
       "      <td>0.776232</td>\n",
       "      <td>0.237006</td>\n",
       "      <td>0</td>\n",
       "    </tr>\n",
       "    <tr>\n",
       "      <th>3</th>\n",
       "      <td>0</td>\n",
       "      <td>1</td>\n",
       "      <td>0</td>\n",
       "      <td>1</td>\n",
       "      <td>0</td>\n",
       "      <td>0</td>\n",
       "      <td>1</td>\n",
       "      <td>0</td>\n",
       "      <td>0</td>\n",
       "      <td>0.398283</td>\n",
       "      <td>4.014963</td>\n",
       "      <td>0.776232</td>\n",
       "      <td>0.312260</td>\n",
       "      <td>0</td>\n",
       "    </tr>\n",
       "    <tr>\n",
       "      <th>4</th>\n",
       "      <td>1</td>\n",
       "      <td>0</td>\n",
       "      <td>0</td>\n",
       "      <td>1</td>\n",
       "      <td>0</td>\n",
       "      <td>0</td>\n",
       "      <td>1</td>\n",
       "      <td>0</td>\n",
       "      <td>0</td>\n",
       "      <td>0.398283</td>\n",
       "      <td>6.185214</td>\n",
       "      <td>-0.776232</td>\n",
       "      <td>0.312260</td>\n",
       "      <td>0</td>\n",
       "    </tr>\n",
       "  </tbody>\n",
       "</table>\n",
       "</div>"
      ],
      "text/plain": [
       "   SEX_1  SEX_2  EDUCATION_1  EDUCATION_2  EDUCATION_3  EDUCATION_4  \\\n",
       "0      0      1            0            1            0            0   \n",
       "1      0      1            0            1            0            0   \n",
       "2      0      1            0            1            0            0   \n",
       "3      0      1            0            1            0            0   \n",
       "4      1      0            0            1            0            0   \n",
       "\n",
       "   MARRIAGE_1  MARRIAGE_2  MARRIAGE_3  LIMIT_BAL       AGE     PAY_1  \\\n",
       "0           1           0           0   0.159313  2.604301  2.328696   \n",
       "1           0           1           0   0.955878  2.821326 -0.776232   \n",
       "2           0           1           0   0.716909  3.689426  0.776232   \n",
       "3           1           0           0   0.398283  4.014963  0.776232   \n",
       "4           1           0           0   0.398283  6.185214 -0.776232   \n",
       "\n",
       "   PAY_AMT1  def_next_month  \n",
       "0  0.000000               1  \n",
       "1  0.000000               1  \n",
       "2  0.237006               0  \n",
       "3  0.312260               0  \n",
       "4  0.312260               0  "
      ]
     },
     "execution_count": 14,
     "metadata": {},
     "output_type": "execute_result"
    }
   ],
   "source": [
    "df_prep.head(5)"
   ]
  },
  {
   "cell_type": "code",
   "execution_count": 15,
   "metadata": {},
   "outputs": [
    {
     "data": {
      "text/plain": [
       "(29601, 14)"
      ]
     },
     "execution_count": 15,
     "metadata": {},
     "output_type": "execute_result"
    }
   ],
   "source": [
    "df_prep.shape"
   ]
  },
  {
   "cell_type": "code",
   "execution_count": 16,
   "metadata": {},
   "outputs": [
    {
     "data": {
      "text/plain": [
       "SEX_1             False\n",
       "SEX_2             False\n",
       "EDUCATION_1       False\n",
       "EDUCATION_2       False\n",
       "EDUCATION_3       False\n",
       "EDUCATION_4       False\n",
       "MARRIAGE_1        False\n",
       "MARRIAGE_2        False\n",
       "MARRIAGE_3        False\n",
       "LIMIT_BAL          True\n",
       "AGE                True\n",
       "PAY_1              True\n",
       "PAY_AMT1           True\n",
       "def_next_month    False\n",
       "dtype: bool"
      ]
     },
     "execution_count": 16,
     "metadata": {},
     "output_type": "execute_result"
    }
   ],
   "source": [
    "df_prep.isnull().any()"
   ]
  },
  {
   "cell_type": "markdown",
   "metadata": {},
   "source": [
    "We concatenated the numeric dataset without outliers (28.956 records) with the encoded categorical variables (29.601 records).\n",
    "\n",
    "\n",
    "So, we have 645 records with the numerical variables that are null. \n",
    "\n",
    "This is a problem when we run the model, because we will get an error.\n",
    "\n",
    "\n",
    "As we have seen before, this is equal to 2.2% of the original dataset, we can delete those records with NULL values.\n"
   ]
  },
  {
   "cell_type": "code",
   "execution_count": 17,
   "metadata": {},
   "outputs": [
    {
     "data": {
      "text/plain": [
       "(28956, 14)"
      ]
     },
     "execution_count": 17,
     "metadata": {},
     "output_type": "execute_result"
    }
   ],
   "source": [
    "df_prep_no_miss = df_prep.dropna()\n",
    "df_prep_no_miss.shape"
   ]
  },
  {
   "cell_type": "code",
   "execution_count": 18,
   "metadata": {},
   "outputs": [
    {
     "data": {
      "text/plain": [
       "SEX_1             False\n",
       "SEX_2             False\n",
       "EDUCATION_1       False\n",
       "EDUCATION_2       False\n",
       "EDUCATION_3       False\n",
       "EDUCATION_4       False\n",
       "MARRIAGE_1        False\n",
       "MARRIAGE_2        False\n",
       "MARRIAGE_3        False\n",
       "LIMIT_BAL         False\n",
       "AGE               False\n",
       "PAY_1             False\n",
       "PAY_AMT1          False\n",
       "def_next_month    False\n",
       "dtype: bool"
      ]
     },
     "execution_count": 18,
     "metadata": {},
     "output_type": "execute_result"
    }
   ],
   "source": [
    "df_prep_no_miss.isnull().any()"
   ]
  },
  {
   "cell_type": "markdown",
   "metadata": {},
   "source": [
    "## Train, Validation and Test Split"
   ]
  },
  {
   "cell_type": "code",
   "execution_count": 19,
   "metadata": {},
   "outputs": [],
   "source": [
    "# resampling dataset\n",
    "from imblearn.over_sampling import SMOTE\n",
    "from imblearn.under_sampling import RandomUnderSampler\n",
    "from imblearn.pipeline import Pipeline"
   ]
  },
  {
   "cell_type": "code",
   "execution_count": 20,
   "metadata": {},
   "outputs": [],
   "source": [
    "oversamp = SMOTE(sampling_strategy = 0.35)\n",
    "undersamp = RandomUnderSampler(sampling_strategy = 0.45)\n",
    "pipeline = Pipeline(steps = [('over', oversamp),('under', undersamp)])\n",
    "\n",
    "X, y = pipeline.fit_resample(df_prep_no_miss.drop(['def_next_month'],axis=1),df_prep_no_miss.def_next_month)"
   ]
  },
  {
   "cell_type": "code",
   "execution_count": 21,
   "metadata": {},
   "outputs": [
    {
     "name": "stdout",
     "output_type": "stream",
     "text": [
      "0.3103529875764149\n"
     ]
    }
   ],
   "source": [
    "print(y.sum()/len(y))"
   ]
  },
  {
   "cell_type": "code",
   "execution_count": 22,
   "metadata": {},
   "outputs": [],
   "source": [
    "# Splitting Train, test dataset\n",
    "from sklearn.model_selection import train_test_split\n",
    "\n",
    "X_train, X_NOT_train, y_train, y_NOT_train = train_test_split(df_prep_no_miss.drop(['def_next_month'],axis=1),\n",
    "                                                              df_prep_no_miss.def_next_month,test_size=0.33,\n",
    "                                                                        random_state=101)\n",
    "\n",
    "# split 30% groups into validation and test sets\n",
    "X_val, X_test, y_val, y_test = train_test_split(X_NOT_train,y_NOT_train,test_size=0.5,\n",
    "                                                                    random_state=101)"
   ]
  },
  {
   "cell_type": "markdown",
   "metadata": {},
   "source": [
    "Check all the shapes to make sure that everything has worked out okay."
   ]
  },
  {
   "cell_type": "code",
   "execution_count": 23,
   "metadata": {},
   "outputs": [
    {
     "name": "stdout",
     "output_type": "stream",
     "text": [
      "(19400, 13)\n",
      "(4778, 13)\n",
      "(4778, 13)\n",
      "(4778,)\n",
      "(4778,)\n"
     ]
    }
   ],
   "source": [
    "print(X_train.shape)\n",
    "print(X_val.shape)\n",
    "print(X_test.shape)\n",
    "print(y_val.shape)\n",
    "print(y_test.shape)"
   ]
  },
  {
   "cell_type": "markdown",
   "metadata": {},
   "source": [
    "# 3. Checking statistical similarity between training and test datasets "
   ]
  },
  {
   "cell_type": "markdown",
   "metadata": {},
   "source": [
    "We want to be sure that, when splitting in training and test dataset, the distribution of the features has not been distorted due to the sampling procedure.\n",
    "\n",
    "We can use Kolmogorov-Smirnov distance, in order to evaluate the difference between the two distributions."
   ]
  },
  {
   "cell_type": "code",
   "execution_count": 24,
   "metadata": {},
   "outputs": [],
   "source": [
    "from scipy import stats\n",
    "from scipy.stats import ks_2samp"
   ]
  },
  {
   "cell_type": "code",
   "execution_count": 25,
   "metadata": {},
   "outputs": [],
   "source": [
    "distances = list(map(lambda i : ks_2samp(X_train.iloc[:,i],X_test.iloc[:,i]).statistic,range(X_train.shape[1])))"
   ]
  },
  {
   "cell_type": "code",
   "execution_count": 26,
   "metadata": {},
   "outputs": [],
   "source": [
    "for i in range(X_train.shape[1]):\n",
    "  X_train.columns[i],distances[i]"
   ]
  },
  {
   "cell_type": "markdown",
   "metadata": {},
   "source": [
    "We sort in descending order the first 10 distances, as we can see they are small.\n",
    "\n",
    "Which means we do not need to minimize them. Otherwise, we could have generated several couples of training/test datasets and choose the datasets that minimize the difference, by using random state.\n",
    "\n",
    "We could have tried with 100 samplings."
   ]
  },
  {
   "cell_type": "code",
   "execution_count": 27,
   "metadata": {},
   "outputs": [
    {
     "data": {
      "text/plain": [
       "[0.01699449366296557,\n",
       " 0.012194551488135086,\n",
       " 0.01219455148813503,\n",
       " 0.011945277539236965,\n",
       " 0.010036658568266021,\n",
       " 0.009408262957800562,\n",
       " 0.000981215450540085,\n",
       " 0.0005912192048607157,\n",
       " 0.0005694053069695837,\n",
       " 0.0005175352668803646]"
      ]
     },
     "execution_count": 27,
     "metadata": {},
     "output_type": "execute_result"
    }
   ],
   "source": [
    "# sorting in descending order the first 10 higher distances\n",
    "sort_dist = sorted(distances, reverse = True)\n",
    "sort_dist_lim = sort_dist[:10]\n",
    "sort_dist_lim"
   ]
  },
  {
   "cell_type": "markdown",
   "metadata": {},
   "source": [
    "# Model Implementation - Decision Tree"
   ]
  },
  {
   "cell_type": "markdown",
   "metadata": {},
   "source": [
    "After \n",
    "\n",
    "- Excluding the predictors that are highly correlated among each other\n",
    "- Excluding the outliers\n",
    "- Making sure that training and test datasets are statistically similar\n",
    "- Resampling\n",
    "\n",
    "We re-run the model. Compared with the previous result, where we only have have implemented resampling,  we can observe how all the metrics have significantly increased."
   ]
  },
  {
   "cell_type": "code",
   "execution_count": 28,
   "metadata": {},
   "outputs": [],
   "source": [
    "from sklearn.tree import DecisionTreeClassifier\n",
    "from sklearn.metrics import make_scorer, accuracy_score, precision_score, recall_score, f1_score\n",
    "from sklearn.metrics import confusion_matrix,classification_report"
   ]
  },
  {
   "cell_type": "markdown",
   "metadata": {},
   "source": [
    "Below we can see the comparison"
   ]
  },
  {
   "cell_type": "code",
   "execution_count": 25,
   "metadata": {},
   "outputs": [
    {
     "name": "stdout",
     "output_type": "stream",
     "text": [
      "Decision Tree - NEW\n",
      "              precision    recall  f1-score   support\n",
      "\n",
      "           0       0.95      0.94      0.94      3753\n",
      "           1       0.79      0.80      0.79      1025\n",
      "\n",
      "    accuracy                           0.91      4778\n",
      "   macro avg       0.87      0.87      0.87      4778\n",
      "weighted avg       0.91      0.91      0.91      4778\n",
      "\n",
      "\n",
      "\n",
      "Decision Tree - Old\n",
      "              precision    recall  f1-score   support\n",
      "\n",
      "           0       0.80      0.84      0.82      3319\n",
      "           1       0.43      0.37      0.40      1121\n",
      "\n",
      "    accuracy                           0.72      4440\n",
      "   macro avg       0.61      0.60      0.61      4440\n",
      "weighted avg       0.70      0.72      0.71      4440\n",
      "\n",
      "\n",
      "\n"
     ]
    }
   ],
   "source": [
    "file_path=r'C:\\Users\\Marco\\Desktop\\TU Dublin\\Programming for Big Data - H6018\\2nd Assignment\\data'\n",
    "file_name='/credit_card_default.xls'\n",
    "\n",
    "df = pd.read_excel(file_path+file_name, encoding = \"ISO-8859-1\")\n",
    "pd.set_option('display.max_columns', None)\n",
    "pd.set_option('display.max_colwidth', None)\n",
    "#checking duplicates for ID and drop it\n",
    "df.ID.duplicated().sum()\n",
    "df.drop(['ID'], axis=1, inplace=True)\n",
    "#rename columns\n",
    "df = df.rename(columns = {'default payment next month' : 'def_next_month', \n",
    "                          'PAY_0' : 'PAY_1'})\n",
    "df.def_next_month.value_counts()\n",
    "#Correct data inconsistencies \n",
    "# MARRIAGE = 0 is deleted\n",
    "df = df.drop(df[df['MARRIAGE']==0].index)\n",
    "# EDUCATION = 0, 5 and 6 are deleted\n",
    "df = df.drop(df[df['EDUCATION']==0].index)\n",
    "df = df.drop(df[df['EDUCATION']==5].index)\n",
    "df = df.drop(df[df['EDUCATION']==6].index)\n",
    "#Fixing PAY variables\n",
    "for att in ['PAY_1', 'PAY_2', 'PAY_3', 'PAY_4', 'PAY_5', 'PAY_6']:\n",
    "  # categories -2,-1 are grouped into a single class -1: pay duty   \n",
    "  filter = (df[att] == -2) | (df[att] == -1) \n",
    "  df.loc[filter, att] = -1\n",
    "  df[att] = df[att].astype('int64')\n",
    "  filter = (df[att] >= 0)\n",
    "  df.loc[filter, att] = df.loc[filter, att] + 1\n",
    "    \n",
    "# Set 'category' type to categorical attributes\n",
    "for att in ['SEX', 'EDUCATION', 'MARRIAGE']:\n",
    "  df[att] = df[att].astype('category')\n",
    "\n",
    "# one-hot encoding\n",
    "df_encoded=pd.concat([pd.get_dummies(df['SEX'], prefix='SEX'),\n",
    "                pd.get_dummies(df['EDUCATION'], prefix='EDUCATION'), \n",
    "                pd.get_dummies(df['MARRIAGE'], prefix='MARRIAGE'),\n",
    "                df],axis=1)\n",
    "# drop original columns\n",
    "df_encoded.drop(['EDUCATION'],axis=1, inplace=True)\n",
    "df_encoded.drop(['SEX'],axis=1, inplace=True)\n",
    "df_encoded.drop(['MARRIAGE'],axis=1, inplace=True)\n",
    "\n",
    "# drop response variable and the hot encoded variables\n",
    "df_drop_var = df_encoded.drop(['def_next_month', 'SEX_1','SEX_2','EDUCATION_1','EDUCATION_2','EDUCATION_3','EDUCATION_4',\n",
    "                               'MARRIAGE_1','MARRIAGE_2','MARRIAGE_3'],axis=1)\n",
    "\n",
    "df_scaled = df_drop_var/df_drop_var.std()\n",
    "\n",
    "#concatenating the encoded variables with the scaled variables\n",
    "df_encoded_only = df_encoded.iloc[:,:9]\n",
    "\n",
    "df_prep_old = pd.concat([df_encoded_only, df_scaled, df.def_next_month],axis=1)\n",
    "\n",
    "# Splitting Train, test dataset\n",
    "from sklearn.model_selection import train_test_split\n",
    "\n",
    "X_train2, X_NOT_train2, y_train2, y_NOT_train2 = train_test_split(df_prep_old.drop(['def_next_month'],axis=1),\n",
    "                                                                        df_prep_old.def_next_month,test_size=0.3,\n",
    "                                                                        random_state=101)\n",
    "\n",
    "# split 30% groups into validation and test sets\n",
    "X_val2, X_test2, y_val2, y_test2 = train_test_split(X_NOT_train2,y_NOT_train2,test_size=0.5,\n",
    "                                                                    random_state=101)\n",
    "\n",
    "\n",
    "\n",
    "tree2 = DecisionTreeClassifier()\n",
    "tree2.fit(X_train2, y_train2)\n",
    "pred2 = tree2.predict(X_val2)\n",
    "\n",
    "print('Decision Tree - NEW')\n",
    "print(classification_report(pred1,y_val))\n",
    "print('\\n')\n",
    "\n",
    "print('Decision Tree - Old')\n",
    "print(classification_report(pred2,y_val2))\n",
    "print('\\n')"
   ]
  },
  {
   "cell_type": "markdown",
   "metadata": {},
   "source": [
    "# Conclusion"
   ]
  },
  {
   "cell_type": "markdown",
   "metadata": {},
   "source": [
    "The new experiments already contributed enough to achieve a satisfactory outcome. \n",
    "At this point it is not easy to say which one contributed the most.\n",
    "\n",
    "Considering that the outliers removed were only 2.2%, and that we have also removed 15 variables that were correlated among each other. Probably, the feature selection has been one of the experiment which contributed the most."
   ]
  },
  {
   "cell_type": "code",
   "execution_count": null,
   "metadata": {},
   "outputs": [],
   "source": []
  }
 ],
 "metadata": {
  "kernelspec": {
   "display_name": "Python 3 (ipykernel)",
   "language": "python",
   "name": "python3"
  },
  "language_info": {
   "codemirror_mode": {
    "name": "ipython",
    "version": 3
   },
   "file_extension": ".py",
   "mimetype": "text/x-python",
   "name": "python",
   "nbconvert_exporter": "python",
   "pygments_lexer": "ipython3",
   "version": "3.9.7"
  }
 },
 "nbformat": 4,
 "nbformat_minor": 4
}
